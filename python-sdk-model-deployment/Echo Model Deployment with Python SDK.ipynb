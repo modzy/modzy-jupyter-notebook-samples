{
 "cells": [
  {
   "cell_type": "markdown",
   "metadata": {},
   "source": [
    "# Deploying Models to Modzy with Python SDK  \n",
    "In this notebook, we will use the Modzy Python SDK to an example Echo Model to our private model library in Modzy. For more model deployment-specific guides, visit this set of [Model Deployment guides](https://docs.modzy.com/docs/deploy-your-model-to-modzy).\n",
    "\n",
    "For more detailed usage documenation for our Python SDK, visit our **[GitHub page](https://github.com/modzy/sdk-python)**. "
   ]
  },
  {
   "cell_type": "markdown",
   "metadata": {},
   "source": [
    "### 1. Environment Set Up\n",
    "\n",
    "Create a virtual environment (venv, conda, or other preferred virtual environment) with Python 3.6 or newer. \n",
    "\n",
    "Pip install the following packages in your environment. \n",
    "\n",
    "* modzy-sdk>=0.10.0\n",
    "\n",
    "And install Jupyter Notebooks in your preferred environment using the appropriate **[install instructions](https://jupyter.org/install)**."
   ]
  },
  {
   "cell_type": "markdown",
   "metadata": {},
   "source": [
    "### 2. Import Modzy SDK and Initialize Client\n",
    "\n",
    "Insert your instance URL and personal API Key to establish connection to the Modzy API Client"
   ]
  },
  {
   "cell_type": "code",
   "execution_count": 1,
   "metadata": {},
   "outputs": [],
   "source": [
    "# Import Libraries\n",
    "from modzy import ApiClient, error\n",
    "from pprint import pprint"
   ]
  },
  {
   "cell_type": "markdown",
   "metadata": {},
   "source": [
    "#### Initialize Modzy API Client"
   ]
  },
  {
   "cell_type": "code",
   "execution_count": null,
   "metadata": {},
   "outputs": [],
   "source": [
    "# the url we will use for authentication\n",
    "'''\n",
    "Example: \"https://test.modzy.url\"\n",
    "'''\n",
    "API_URL = \"https://<your.modzy.url>\"\n",
    "# the api key we will be using for authentication -- make sure to paste in your personal API access key below\n",
    "API_KEY = \"<your.api.key>\"\n",
    "    \n",
    "# setup our API Client\n",
    "client = ApiClient(base_url=API_URL, api_key=API_KEY)"
   ]
  },
  {
   "cell_type": "markdown",
   "metadata": {},
   "source": [
    "### 3. Define Model Assets and Metadata \n",
    "To deploy our model via Modzy's Python SDK, we will need the container image URL and metadata to document our model. For this example, we will deploy a simple [Echo Model](https://hub.docker.com/repository/docker/modzy/grpc-echo-model)."
   ]
  },
  {
   "cell_type": "code",
   "execution_count": 4,
   "metadata": {},
   "outputs": [],
   "source": [
    "# Container repository and image tag\n",
    "echo_model_container = \"modzy/grpc-echo-model:1.0.0\"\n",
    "# Define Dictionary with metadata to be used during deployment. Notice some of these fields accept markdown\n",
    "model_info = {\n",
    "    \"inputs\": [\n",
    "        {\n",
    "            \"name\": \"input\",\n",
    "            \"acceptedMediaTypes\": \"text/plain\",\n",
    "            \"maximumSize\": 5000000,\n",
    "            \"description\": \"Input text to be returned as an 'echo' by the model\"\n",
    "        }\n",
    "    ],\n",
    "    \"outputs\": [\n",
    "        {\n",
    "            \"name\": \"results.json\",\n",
    "            \"mediaType\": \"application/json\",\n",
    "            \"maximumSize\": 1000000,\n",
    "            \"description\": \"Echo of the input text\"\n",
    "        }\n",
    "    ],\n",
    "    \"short_description\": \"This is an example echo model.\",\n",
    "    \"long_description\": \"This is a longer explanation of my echo model.\",\n",
    "    \"technical_details\": \"#OVERVIEW:\\nThis is a short overview of my model.\\n\\n#TRAINING:\\nHere, I can provide details about how my model was built.\\n\\n#VALIDATION:\\nNext, I can describe any model validation details.\",\n",
    "    \"performance_summary\": \"In this section, I can describe the metrics used to evaluate my model's performance.\"\n",
    "}"
   ]
  },
  {
   "cell_type": "markdown",
   "metadata": {},
   "source": [
    "### 4. Deploy New Model"
   ]
  },
  {
   "cell_type": "code",
   "execution_count": 5,
   "metadata": {},
   "outputs": [
    {
     "name": "stdout",
     "output_type": "stream",
     "text": [
      "Loading model at 5%\n",
      "Loading model at 13%\n",
      "Loading model at 16%\n",
      "Loading model at 47%\n",
      "Loading model at 50%\n",
      "Loading model at 100%\n",
      "Running model at 20%\n",
      "Running model at 40%\n",
      "Running model at 55%\n",
      "Running model at 70%\n",
      "Running model at 95%\n",
      "Running model at 100%\n",
      "{'model_data': '{\"version\": \"0.0.1\", \"createdAt\": \"2022-10-02T14:53:43.070+00:00\", \"updatedAt\": \"2022-10-02T14:53:43.680+00:00\", \"inputValidationSchema\": \"\", \"timeout\": {\"status\": 60000, \"run\": 60000}, \"requirement\": {\"requirementId\": 1}, \"containerImage\": {\"uploadStatus\": \"IN_PROGRESS\", \"loadStatus\": \"IN_PROGRESS\", \"uploadPercentage\": 0, \"loadPercentage\": 0, \"containerImageSize\": 0, \"repositoryName\": \"mjzy0ylwuk\"}, \"inputs\": [{\"name\": \"input\", \"acceptedMediaTypes\": \"text/plain\", \"maximumSize\": 5000000, \"description\": \"Input text to be returned as an \\'echo\\' by the model\"}], \"outputs\": [{\"name\": \"results.json\", \"mediaType\": \"application/json\", \"maximumSize\": 1000000, \"description\": \"Echo of the input text\"}], \"statistics\": [], \"isActive\": false, \"longDescription\": \"This is a longer explanation of my echo model.\", \"technicalDetails\": \"#OVERVIEW:\\\\nThis is a short overview of my model.\\\\n\\\\n#TRAINING:\\\\nHere, I can provide details about how my model was built.\\\\n\\\\n#VALIDATION:\\\\nNext, I can describe any model validation details.\", \"isAvailable\": true, \"status\": \"partial\", \"performanceSummary\": \"In this section, I can describe the metrics used to evaluate my model\\'s performance.\", \"model\": {\"modelId\": \"mjzy0ylwuk\", \"latestVersion\": \"0.0.1\", \"latestActiveVersion\": \"\", \"versions\": [\"0.0.1\"], \"author\": \"Modzy Demo\", \"name\": \"My Echo Model\", \"description\": \"This is an example echo model.\", \"permalink\": \"mjzy0ylwuk-modzy-demo-my-echo-model\", \"features\": [], \"isActive\": false, \"isRecommended\": false, \"isCommercial\": false, \"tags\": [], \"createdByEmail\": \"bradley.munday@modzy.com\", \"createdByFullName\": \"Bradley Munday\", \"visibility\": {\"scope\": \"PRIVATE\"}}, \"processing\": {\"minimumParallelCapacity\": 0, \"maximumParallelCapacity\": 1}, \"originSidecar\": false}', 'container_url': 'https://demo.modzy.engineering/models/mjzy0ylwuk/0.0.1'}\n"
     ]
    }
   ],
   "source": [
    "# Deploy new model\n",
    "model_data = client.models.deploy(\n",
    "    container_image= echo_model_container,\n",
    "    model_name=\"My Echo Model\",\n",
    "    model_version=\"0.0.1\",\n",
    "    architecture='amd64', # This is the default value, but this method supports models compiled for both arm 64 bit and arm 32 {'amd64', 'arm64', 'arm'}\n",
    "    input_details=model_info[\"inputs\"],\n",
    "    output_details=model_info[\"outputs\"],\n",
    "    sample_input_file=\"./input.txt\",\n",
    "    run_timeout=\"60\",\n",
    "    status_timeout=\"60\",\n",
    "    short_description=model_info[\"short_description\"],\n",
    "    long_description=model_info[\"long_description\"],\n",
    "    technical_details=model_info[\"technical_details\"],\n",
    "    performance_summary=model_info[\"performance_summary\"]\n",
    ")\n",
    "\n",
    "print(model_data)"
   ]
  },
  {
   "cell_type": "markdown",
   "metadata": {},
   "source": [
    "### 5. Deploy New Version of Existing Model\n",
    "If you want to add a new version for an existing model, simply add the `model_id` parameter "
   ]
  },
  {
   "cell_type": "code",
   "execution_count": 7,
   "metadata": {},
   "outputs": [
    {
     "name": "stdout",
     "output_type": "stream",
     "text": [
      "Loading model at 5%\n",
      "Loading model at 13%\n",
      "Loading model at 16%\n",
      "Loading model at 19%\n",
      "Loading model at 44%\n",
      "Loading model at 56%\n",
      "Loading model at 93%\n",
      "Loading model at 100%\n",
      "Running model at 20%\n",
      "Running model at 40%\n",
      "Running model at 55%\n",
      "Running model at 70%\n",
      "Running model at 100%\n",
      "{'model_data': '{\"version\": \"0.0.2\", \"createdAt\": \"2022-10-02T14:56:55.885+00:00\", \"updatedAt\": \"2022-10-02T14:56:56.710+00:00\", \"inputValidationSchema\": \"\", \"timeout\": {\"status\": 60000, \"run\": 60000}, \"requirement\": {\"requirementId\": 1}, \"containerImage\": {\"uploadStatus\": \"IN_PROGRESS\", \"loadStatus\": \"IN_PROGRESS\", \"uploadPercentage\": 0, \"loadPercentage\": 0, \"containerImageSize\": 0, \"repositoryName\": \"mjzy0ylwuk\"}, \"inputs\": [{\"name\": \"input\", \"acceptedMediaTypes\": \"text/plain\", \"maximumSize\": 5000000, \"description\": \"Input text to be returned as an \\'echo\\' by the model\"}], \"outputs\": [{\"name\": \"results.json\", \"mediaType\": \"application/json\", \"maximumSize\": 1000000, \"description\": \"Echo of the input text\"}], \"statistics\": [], \"isActive\": false, \"longDescription\": \"This is a longer explanation of my echo model.\", \"technicalDetails\": \"#OVERVIEW:\\\\nThis is a short overview of my model.\\\\n\\\\n#TRAINING:\\\\nHere, I can provide details about how my model was built.\\\\n\\\\n#VALIDATION:\\\\nNext, I can describe any model validation details.\", \"isAvailable\": true, \"status\": \"partial\", \"performanceSummary\": \"In this section, I can describe the metrics used to evaluate my model\\'s performance.\", \"model\": {\"modelId\": \"mjzy0ylwuk\", \"latestVersion\": \"0.0.2\", \"latestActiveVersion\": \"0.0.1\", \"versions\": [\"0.0.1\", \"0.0.2\"], \"author\": \"Modzy Demo\", \"name\": \"My Echo Model\", \"description\": \"This is an example echo model.\", \"permalink\": \"mjzy0ylwuk-modzy-demo-my-echo-model\", \"features\": [], \"isActive\": true, \"isRecommended\": false, \"isCommercial\": false, \"tags\": [], \"createdByEmail\": \"bradley.munday@modzy.com\", \"createdByFullName\": \"Bradley Munday\", \"visibility\": {\"scope\": \"PRIVATE\"}}, \"processing\": {\"minimumParallelCapacity\": 0, \"maximumParallelCapacity\": 1}, \"originSidecar\": false}', 'container_url': 'https://demo.modzy.engineering/models/mjzy0ylwuk/0.0.2'}\n"
     ]
    }
   ],
   "source": [
    "# Deploy new model\n",
    "model_data = client.models.deploy(\n",
    "    container_image= echo_model_container,\n",
    "    model_name=\"My Echo Model\",\n",
    "    model_version=\"0.0.2\",\n",
    "    architecture='amd64', # This is the default value, but this method supports models compiled for both arm 64 bit and arm 32 {'amd64', 'arm64', 'arm'}\n",
    "    input_details=model_info[\"inputs\"],\n",
    "    output_details=model_info[\"outputs\"],\n",
    "    model_id=\"<existing-model-identifier>\" # e.g., \"mjzy0ylwuk\"\n",
    "    sample_input_file=\"./input.txt\",\n",
    "    run_timeout=\"60\",\n",
    "    status_timeout=\"60\",\n",
    "    short_description=model_info[\"short_description\"],\n",
    "    long_description=model_info[\"long_description\"],\n",
    "    technical_details=model_info[\"technical_details\"],\n",
    "    performance_summary=model_info[\"performance_summary\"]\n",
    ")\n",
    "\n",
    "print(model_data)"
   ]
  },
  {
   "cell_type": "markdown",
   "metadata": {},
   "source": [
    "### 6. Deploy New Model from Private Registry\n",
    "If your model container requires credentials to download, pass through the `credentials` parameter"
   ]
  },
  {
   "cell_type": "code",
   "execution_count": null,
   "metadata": {},
   "outputs": [],
   "source": [
    "# Deploy new model\n",
    "model_data = client.models.deploy(\n",
    "    container_image= echo_model_container,\n",
    "    model_name=\"My Echo Model\",\n",
    "    model_version=\"0.0.1\",\n",
    "    architecture='amd64', # This is the default value, but this method supports models compiled for both arm 64 bit and arm 32 {'amd64', 'arm64', 'arm'}\n",
    "    input_details=model_info[\"inputs\"],\n",
    "    output_details=model_info[\"outputs\"],\n",
    "    sample_input_file=\"./input.txt\",\n",
    "    credentials={\n",
    "        \"user\": \"<docker-registry-username>\",\n",
    "        \"pass\": \"<docker-registry-password>\"\n",
    "    }\n",
    "    run_timeout=\"60\",\n",
    "    status_timeout=\"60\",\n",
    "    short_description=model_info[\"short_description\"],\n",
    "    long_description=model_info[\"long_description\"],\n",
    "    technical_details=model_info[\"technical_details\"],\n",
    "    performance_summary=model_info[\"performance_summary\"]\n",
    ")\n",
    "\n",
    "print(model_data)"
   ]
  },
  {
   "cell_type": "code",
   "execution_count": null,
   "metadata": {},
   "outputs": [],
   "source": []
  }
 ],
 "metadata": {
  "kernelspec": {
   "display_name": "Python 3 (ipykernel)",
   "language": "python",
   "name": "python3"
  },
  "language_info": {
   "codemirror_mode": {
    "name": "ipython",
    "version": 3
   },
   "file_extension": ".py",
   "mimetype": "text/x-python",
   "name": "python",
   "nbconvert_exporter": "python",
   "pygments_lexer": "ipython3",
   "version": "3.9.7"
  }
 },
 "nbformat": 4,
 "nbformat_minor": 4
}
